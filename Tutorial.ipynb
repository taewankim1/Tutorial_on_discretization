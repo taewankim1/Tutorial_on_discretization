{
 "cells": [
  {
   "cell_type": "code",
   "execution_count": 1,
   "id": "06fcf11f",
   "metadata": {},
   "outputs": [],
   "source": [
    "import matplotlib.pyplot as plt\n",
    "%matplotlib inline\n",
    "%load_ext autoreload\n",
    "%autoreload 2\n",
    "import numpy as np\n",
    "import time\n",
    "import random\n",
    "def print_np(x):\n",
    "    print (\"Type is %s\" % (type(x)))\n",
    "    print (\"Shape is %s\" % (x.shape,))\n",
    "#     print (\"Values are: \\n%s\" % (x))\n",
    "from model import OptimalcontrolModel"
   ]
  },
  {
   "cell_type": "code",
   "execution_count": 2,
   "id": "4396d1ab",
   "metadata": {},
   "outputs": [],
   "source": [
    "# Motivation\n",
    "N_ = 200\n",
    "dx = 10\n",
    "du = 20\n",
    "A = np.random.random((N_,dx,dx))\n",
    "B = np.random.random((N_,dx,du))"
   ]
  },
  {
   "cell_type": "code",
   "execution_count": 3,
   "id": "35b34c8d",
   "metadata": {},
   "outputs": [
    {
     "name": "stdout",
     "output_type": "stream",
     "text": [
      "0.0\n"
     ]
    }
   ],
   "source": [
    "C1 = np.zeros_like(B)\n",
    "# method 1\n",
    "for i in range(N_) :\n",
    "    C1[i] = A[i]@B[i]\n",
    "# method 2\n",
    "C2 = A@B    \n",
    "print(np.sum(np.abs(C1-C2)))"
   ]
  },
  {
   "cell_type": "code",
   "execution_count": 4,
   "id": "36d71648",
   "metadata": {},
   "outputs": [
    {
     "name": "stdout",
     "output_type": "stream",
     "text": [
      "0.0002598428726196289\n",
      "5.0115585327148435e-05\n",
      "5.1848715509039005\n"
     ]
    }
   ],
   "source": [
    "# computational time\n",
    "max_iter = 50\n",
    "list_time1,list_time2 = [],[]\n",
    "for _ in range(max_iter) :\n",
    "    tic = time.time()\n",
    "    for i in range(N_) :\n",
    "        C1[i] = A[i]@B[i]\n",
    "    list_time1.append(time.time()-tic)\n",
    "    tic = time.time()\n",
    "    C2 = A@B \n",
    "    list_time2.append(time.time()-tic)\n",
    "    assert np.sum(np.abs(C1-C2)) < 1e-10\n",
    "mean_time1 = sum(list_time1)/len(list_time1)\n",
    "mean_time2 = sum(list_time2)/len(list_time2)\n",
    "print(mean_time1)\n",
    "print(mean_time2)\n",
    "print(mean_time1/mean_time2)"
   ]
  },
  {
   "cell_type": "markdown",
   "id": "0cc28b25",
   "metadata": {},
   "source": [
    "## unicycle model (dubin's car)"
   ]
  },
  {
   "cell_type": "code",
   "execution_count": 5,
   "id": "14ec9f2c",
   "metadata": {},
   "outputs": [],
   "source": [
    "class unicycle(OptimalcontrolModel):\n",
    "    def __init__(self,name,ix,iu,linearzation):\n",
    "        super().__init__(name,ix,iu,linearzation)\n",
    "        \n",
    "    def forward(self,x,u,idx=None):\n",
    "        xdim = np.ndim(x)\n",
    "        if xdim == 1: # 1 step state & input\n",
    "            N = 1\n",
    "            x = np.expand_dims(x,axis=0)\n",
    "        else :\n",
    "            N = np.size(x,axis = 0)\n",
    "        udim = np.ndim(u)\n",
    "        if udim == 1 :\n",
    "            u = np.expand_dims(u,axis=0)\n",
    "     \n",
    "        # state & input\n",
    "        x1 = x[:,0]\n",
    "        x2 = x[:,1]\n",
    "        x3 = x[:,2]\n",
    "        \n",
    "        v = u[:,0]\n",
    "        w = u[:,1]\n",
    "        \n",
    "        # output\n",
    "        f = np.zeros_like(x)\n",
    "        f[:,0] = v * np.cos(x3)\n",
    "        f[:,1] = v * np.sin(x3)\n",
    "        f[:,2] = w\n",
    "\n",
    "        return f\n",
    "\n",
    "    def diff(self,x,u):\n",
    "\n",
    "        # dimension\n",
    "        ndim = np.ndim(x)\n",
    "        if ndim == 1: # 1 step state & input\n",
    "            N = 1\n",
    "            x = np.expand_dims(x,axis=0)\n",
    "            u = np.expand_dims(u,axis=0)\n",
    "        else :\n",
    "            N = np.size(x,axis = 0)\n",
    "        \n",
    "        # state & input\n",
    "        x1 = x[:,0]\n",
    "        x2 = x[:,1]\n",
    "        x3 = x[:,2]\n",
    "        \n",
    "        v = u[:,0]\n",
    "        w = u[:,1]    \n",
    "        \n",
    "        fx = np.zeros((N,self.ix,self.ix))\n",
    "        fx[:,0,0] = 0.0\n",
    "        fx[:,0,1] = 0.0\n",
    "        fx[:,0,2] = - v * np.sin(x3)\n",
    "        fx[:,1,0] = 0.0\n",
    "        fx[:,1,1] = 0.0\n",
    "        fx[:,1,2] = v * np.cos(x3)\n",
    "        fx[:,2,0] = 0.0\n",
    "        fx[:,2,1] = 0.0\n",
    "        fx[:,2,2] = 0.0\n",
    "        \n",
    "        fu = np.zeros((N,self.ix,self.iu))\n",
    "        fu[:,0,0] = np.cos(x3)\n",
    "        fu[:,0,1] = 0.0\n",
    "        fu[:,1,0] = np.sin(x3)\n",
    "        fu[:,1,1] = 0.0\n",
    "        fu[:,2,0] = 0.0\n",
    "        fu[:,2,1] = 1.0\n",
    "        \n",
    "        return np.squeeze(fx) , np.squeeze(fu)"
   ]
  },
  {
   "cell_type": "markdown",
   "id": "62fb1795",
   "metadata": {},
   "source": [
    "## Weird nominal trajectory"
   ]
  },
  {
   "cell_type": "code",
   "execution_count": 6,
   "id": "7e1cf533",
   "metadata": {},
   "outputs": [
    {
     "name": "stdout",
     "output_type": "stream",
     "text": [
      "Type is <class 'numpy.ndarray'>\n",
      "Shape is (51, 3)\n"
     ]
    }
   ],
   "source": [
    "N = 50\n",
    "ix = 3\n",
    "iu = 2\n",
    "\n",
    "x0 = np.random.random((N+1,ix))\n",
    "u0 = np.random.random((N+1,iu))\n",
    "tf0 = 100\n",
    "print_np(x0)\n",
    "\n",
    "myModel = unicycle('test',ix,iu,linearzation='analytic') # numeric_central, analytic\n",
    "N_RK = 10"
   ]
  },
  {
   "cell_type": "markdown",
   "id": "d658d327",
   "metadata": {},
   "source": [
    "## Discretization"
   ]
  },
  {
   "cell_type": "code",
   "execution_count": 7,
   "id": "2c09a13a",
   "metadata": {},
   "outputs": [],
   "source": [
    "A1,Bm1,Bp1,s1,z1,x_prop1 = myModel.diff_discrete_foh_serial(x0[:N],u0,1/N,tf0,N_RK=N_RK)\n",
    "A2,Bm2,Bp2,s2,z2,x_prop2 = myModel.diff_discrete_foh(x0[:N],u0,1/N,tf0,N_RK=N_RK)\n",
    "A3,Bm3,Bp3,s3,z3,x_prop3 = myModel.diff_discrete_foh_variational(x0[:N],u0,1/N,tf0,N_RK=N_RK)"
   ]
  },
  {
   "cell_type": "code",
   "execution_count": 8,
   "id": "cc80b011",
   "metadata": {},
   "outputs": [
    {
     "name": "stdout",
     "output_type": "stream",
     "text": [
      "0.0\n",
      "0.0\n",
      "--\n",
      "3.4555353484665074e-14\n",
      "0.0002513301420055573\n",
      "--\n",
      "3.005376720240302e-14\n",
      "0.0002513301420123678\n",
      "--\n",
      "2.34783980451736e-16\n",
      "1.2673802040996557e-06\n",
      "--\n",
      "0.0\n",
      "0.0\n"
     ]
    }
   ],
   "source": [
    "# check the difference\n",
    "print(np.sum(np.abs(A1-A2)))\n",
    "print(np.sum(np.abs(A2-A3)))\n",
    "print('--')\n",
    "print(np.sum(np.abs(Bm1-Bm2)))\n",
    "print(np.sum(np.abs(Bm2-Bm3)))\n",
    "print('--')\n",
    "print(np.sum(np.abs(Bp1-Bp2)))\n",
    "print(np.sum(np.abs(Bp2-Bp3)))\n",
    "print('--')\n",
    "print(np.sum(np.abs(s1-s2)))\n",
    "print(np.sum(np.abs(s2-s3)))\n",
    "print('--')\n",
    "print(np.sum(np.abs(x_prop1-x_prop2)))\n",
    "print(np.sum(np.abs(x_prop2-x_prop3)))"
   ]
  },
  {
   "cell_type": "code",
   "execution_count": 9,
   "id": "1e0dbba0",
   "metadata": {},
   "outputs": [
    {
     "name": "stdout",
     "output_type": "stream",
     "text": [
      "0.07387139797210693\n",
      "0.005467557907104492\n",
      "0.0020673990249633787\n"
     ]
    }
   ],
   "source": [
    "# measure time\n",
    "max_iter = 10\n",
    "list1 = []\n",
    "list2 = []\n",
    "list3 = []\n",
    "for _ in range(max_iter) :\n",
    "    tic = time.time()\n",
    "    A1,Bm1,Bp1,s1,z1,x_prop1 = myModel.diff_discrete_foh_serial(x0[:N],u0,1/N,tf0,N_RK=N_RK)\n",
    "    list1.append(time.time()-tic)\n",
    "    tic = time.time()\n",
    "    A2,Bm2,Bp2,s2,z2,x_prop2 = myModel.diff_discrete_foh(x0[:N],u0,1/N,tf0,N_RK=N_RK)\n",
    "    list2.append(time.time()-tic)\n",
    "    tic = time.time()\n",
    "    A3,Bm3,Bp3,s3,z3,x_prop3 = myModel.diff_discrete_foh_variational(x0[:N],u0,1/N,tf0,N_RK=N_RK)\n",
    "    list3.append(time.time()-tic)\n",
    "mean_time1 = sum(list1)/len(list1)\n",
    "mean_time2 = sum(list2)/len(list2)\n",
    "mean_time3 = sum(list3)/len(list3)\n",
    "print(mean_time1)\n",
    "print(mean_time2)\n",
    "print(mean_time3)"
   ]
  },
  {
   "cell_type": "code",
   "execution_count": 10,
   "id": "fd44c18e",
   "metadata": {},
   "outputs": [
    {
     "name": "stdout",
     "output_type": "stream",
     "text": [
      "indirect parallel computation is 13.510857905339996  times faster than serial\n",
      "variational approach is 2.6446553573281975  times faster than original\n",
      "variational approach is 35.73156274145745  times faster than serial original\n"
     ]
    }
   ],
   "source": [
    "print(\"indirect parallel computation is\",mean_time1/mean_time2,\" times faster than serial\")\n",
    "print(\"variational approach is\",mean_time2/mean_time3,\" times faster than original\")\n",
    "print(\"variational approach is\",mean_time1/mean_time3,\" times faster than serial original\")"
   ]
  }
 ],
 "metadata": {
  "kernelspec": {
   "display_name": "Python 3 (ipykernel)",
   "language": "python",
   "name": "python3"
  },
  "language_info": {
   "codemirror_mode": {
    "name": "ipython",
    "version": 3
   },
   "file_extension": ".py",
   "mimetype": "text/x-python",
   "name": "python",
   "nbconvert_exporter": "python",
   "pygments_lexer": "ipython3",
   "version": "3.9.13"
  }
 },
 "nbformat": 4,
 "nbformat_minor": 5
}
