{
 "cells": [
  {
   "cell_type": "code",
   "execution_count": 1,
   "id": "1dae3853",
   "metadata": {},
   "outputs": [],
   "source": [
    "import matplotlib.pyplot as plt\n",
    "%matplotlib inline\n",
    "%load_ext autoreload\n",
    "%autoreload 2\n",
    "import numpy as np\n",
    "import time\n",
    "import random\n",
    "def print_np(x):\n",
    "    print (\"Type is %s\" % (type(x)))\n",
    "    print (\"Shape is %s\" % (x.shape,))\n",
    "#     print (\"Values are: \\n%s\" % (x))\n",
    "from model import OptimalcontrolModel"
   ]
  },
  {
   "cell_type": "code",
   "execution_count": 2,
   "id": "7b4bce4a",
   "metadata": {},
   "outputs": [],
   "source": [
    "# Motivation\n",
    "N_ = 200\n",
    "dx = 10\n",
    "du = 20\n",
    "A = np.random.random((N_,dx,dx))\n",
    "B = np.random.random((N_,dx,du))"
   ]
  },
  {
   "cell_type": "code",
   "execution_count": 3,
   "id": "9d0fe204",
   "metadata": {},
   "outputs": [
    {
     "name": "stdout",
     "output_type": "stream",
     "text": [
      "0.0\n"
     ]
    }
   ],
   "source": [
    "C1 = np.zeros_like(B)\n",
    "# method 1\n",
    "for i in range(N_) :\n",
    "    C1[i] = A[i]@B[i]\n",
    "# method 2\n",
    "C2 = A@B    \n",
    "print(np.sum(np.abs(C1-C2)))"
   ]
  },
  {
   "cell_type": "code",
   "execution_count": 4,
   "id": "b7287222",
   "metadata": {},
   "outputs": [
    {
     "name": "stdout",
     "output_type": "stream",
     "text": [
      "0.0002730417251586914\n",
      "5.3954124450683596e-05\n",
      "5.060627485638533\n"
     ]
    }
   ],
   "source": [
    "# computational time\n",
    "max_iter = 50\n",
    "list_time1,list_time2 = [],[]\n",
    "for _ in range(max_iter) :\n",
    "    tic = time.time()\n",
    "    for i in range(N_) :\n",
    "        C1[i] = A[i]@B[i]\n",
    "    list_time1.append(time.time()-tic)\n",
    "    tic = time.time()\n",
    "    C2 = A@B \n",
    "    list_time2.append(time.time()-tic)\n",
    "    assert np.sum(np.abs(C1-C2)) < 1e-10\n",
    "mean_time1 = sum(list_time1)/len(list_time1)\n",
    "mean_time2 = sum(list_time2)/len(list_time2)\n",
    "print(mean_time1)\n",
    "print(mean_time2)\n",
    "print(mean_time1/mean_time2)"
   ]
  },
  {
   "cell_type": "markdown",
   "id": "0fee637b",
   "metadata": {},
   "source": [
    "## unicycle model (dubin's car)"
   ]
  },
  {
   "cell_type": "code",
   "execution_count": 5,
   "id": "671ddedb",
   "metadata": {},
   "outputs": [],
   "source": [
    "class unicycle(OptimalcontrolModel):\n",
    "    def __init__(self,name,ix,iu,linearzation):\n",
    "        super().__init__(name,ix,iu,linearzation)\n",
    "        \n",
    "    def forward(self,x,u,idx=None):\n",
    "        xdim = np.ndim(x)\n",
    "        if xdim == 1: # 1 step state & input\n",
    "            N = 1\n",
    "            x = np.expand_dims(x,axis=0)\n",
    "        else :\n",
    "            N = np.size(x,axis = 0)\n",
    "        udim = np.ndim(u)\n",
    "        if udim == 1 :\n",
    "            u = np.expand_dims(u,axis=0)\n",
    "     \n",
    "        # state & input\n",
    "        x1 = x[:,0]\n",
    "        x2 = x[:,1]\n",
    "        x3 = x[:,2]\n",
    "        \n",
    "        v = u[:,0]\n",
    "        w = u[:,1]\n",
    "        \n",
    "        # output\n",
    "        f = np.zeros_like(x)\n",
    "        f[:,0] = v * np.cos(x3)\n",
    "        f[:,1] = v * np.sin(x3)\n",
    "        f[:,2] = w\n",
    "\n",
    "        return f\n",
    "\n",
    "    def diff(self,x,u):\n",
    "\n",
    "        # dimension\n",
    "        ndim = np.ndim(x)\n",
    "        if ndim == 1: # 1 step state & input\n",
    "            N = 1\n",
    "            x = np.expand_dims(x,axis=0)\n",
    "            u = np.expand_dims(u,axis=0)\n",
    "        else :\n",
    "            N = np.size(x,axis = 0)\n",
    "        \n",
    "        # state & input\n",
    "        x1 = x[:,0]\n",
    "        x2 = x[:,1]\n",
    "        x3 = x[:,2]\n",
    "        \n",
    "        v = u[:,0]\n",
    "        w = u[:,1]    \n",
    "        \n",
    "        fx = np.zeros((N,self.ix,self.ix))\n",
    "        fx[:,0,0] = 0.0\n",
    "        fx[:,0,1] = 0.0\n",
    "        fx[:,0,2] = - v * np.sin(x3)\n",
    "        fx[:,1,0] = 0.0\n",
    "        fx[:,1,1] = 0.0\n",
    "        fx[:,1,2] = v * np.cos(x3)\n",
    "        fx[:,2,0] = 0.0\n",
    "        fx[:,2,1] = 0.0\n",
    "        fx[:,2,2] = 0.0\n",
    "        \n",
    "        fu = np.zeros((N,self.ix,self.iu))\n",
    "        fu[:,0,0] = np.cos(x3)\n",
    "        fu[:,0,1] = 0.0\n",
    "        fu[:,1,0] = np.sin(x3)\n",
    "        fu[:,1,1] = 0.0\n",
    "        fu[:,2,0] = 0.0\n",
    "        fu[:,2,1] = 1.0\n",
    "        \n",
    "        return np.squeeze(fx) , np.squeeze(fu)"
   ]
  },
  {
   "cell_type": "markdown",
   "id": "0905bdec",
   "metadata": {},
   "source": [
    "## Weird nominal trajectory"
   ]
  },
  {
   "cell_type": "code",
   "execution_count": 34,
   "id": "3f4ddcd7",
   "metadata": {},
   "outputs": [
    {
     "name": "stdout",
     "output_type": "stream",
     "text": [
      "Type is <class 'numpy.ndarray'>\n",
      "Shape is (51, 3)\n"
     ]
    }
   ],
   "source": [
    "N = 50\n",
    "ix = 3\n",
    "iu = 2\n",
    "\n",
    "x0 = np.random.random((N+1,ix))\n",
    "u0 = np.random.random((N+1,iu))\n",
    "tf0 = 100\n",
    "print_np(x0)\n",
    "\n",
    "myModel = unicycle('test',ix,iu,linearzation='analytic') # numeric_central, analytic\n",
    "N_RK = 10"
   ]
  },
  {
   "cell_type": "markdown",
   "id": "ff954a39",
   "metadata": {},
   "source": [
    "## Discretization"
   ]
  },
  {
   "cell_type": "code",
   "execution_count": 35,
   "id": "52d2b776",
   "metadata": {},
   "outputs": [],
   "source": [
    "A1,Bm1,Bp1,s1,z1,x_prop1 = myModel.diff_discrete_foh_serial(x0[:N],u0,1/N,tf0,N_RK=N_RK)\n",
    "A2,Bm2,Bp2,s2,z2,x_prop2 = myModel.diff_discrete_foh(x0[:N],u0,1/N,tf0,N_RK=N_RK)\n",
    "A3,Bm3,Bp3,s3,z3,x_prop3 = myModel.diff_discrete_foh_variational(x0[:N],u0,1/N,tf0,N_RK=N_RK)"
   ]
  },
  {
   "cell_type": "code",
   "execution_count": 36,
   "id": "1a790153",
   "metadata": {},
   "outputs": [
    {
     "name": "stdout",
     "output_type": "stream",
     "text": [
      "0.0\n",
      "0.0\n",
      "--\n",
      "3.5110332305123464e-14\n",
      "0.00024187380776294294\n",
      "--\n",
      "2.953401638547181e-14\n",
      "0.00024187380775258054\n",
      "--\n",
      "2.5939536976715694e-16\n",
      "1.1564753570628627e-06\n",
      "--\n",
      "0.0\n",
      "0.0\n"
     ]
    }
   ],
   "source": [
    "# check the difference\n",
    "print(np.sum(np.abs(A1-A2)))\n",
    "print(np.sum(np.abs(A2-A3)))\n",
    "print('--')\n",
    "print(np.sum(np.abs(Bm1-Bm2)))\n",
    "print(np.sum(np.abs(Bm2-Bm3)))\n",
    "print('--')\n",
    "print(np.sum(np.abs(Bp1-Bp2)))\n",
    "print(np.sum(np.abs(Bp2-Bp3)))\n",
    "print('--')\n",
    "print(np.sum(np.abs(s1-s2)))\n",
    "print(np.sum(np.abs(s2-s3)))\n",
    "print('--')\n",
    "print(np.sum(np.abs(x_prop1-x_prop2)))\n",
    "print(np.sum(np.abs(x_prop2-x_prop3)))"
   ]
  },
  {
   "cell_type": "code",
   "execution_count": 37,
   "id": "2a105ee9",
   "metadata": {},
   "outputs": [
    {
     "name": "stdout",
     "output_type": "stream",
     "text": [
      "0.0748671054840088\n",
      "0.0054579019546508786\n",
      "0.002078700065612793\n"
     ]
    }
   ],
   "source": [
    "# measure time\n",
    "max_iter = 10\n",
    "list1 = []\n",
    "list2 = []\n",
    "list3 = []\n",
    "for _ in range(max_iter) :\n",
    "    tic = time.time()\n",
    "    A1,Bm1,Bp1,s1,z1,x_prop1 = myModel.diff_discrete_foh_serial(x0[:N],u0,1/N,tf0,N_RK=N_RK)\n",
    "    list1.append(time.time()-tic)\n",
    "    tic = time.time()\n",
    "    A2,Bm2,Bp2,s2,z2,x_prop2 = myModel.diff_discrete_foh(x0[:N],u0,1/N,tf0,N_RK=N_RK)\n",
    "    list2.append(time.time()-tic)\n",
    "    tic = time.time()\n",
    "    A3,Bm3,Bp3,s3,z3,x_prop3 = myModel.diff_discrete_foh_variational(x0[:N],u0,1/N,tf0,N_RK=N_RK)\n",
    "    list3.append(time.time()-tic)\n",
    "mean_time1 = sum(list1)/len(list1)\n",
    "mean_time2 = sum(list2)/len(list2)\n",
    "mean_time3 = sum(list3)/len(list3)\n",
    "print(mean_time1)\n",
    "print(mean_time2)\n",
    "print(mean_time3)"
   ]
  },
  {
   "cell_type": "code",
   "execution_count": 38,
   "id": "fdba7a8f",
   "metadata": {},
   "outputs": [
    {
     "name": "stdout",
     "output_type": "stream",
     "text": [
      "indirect parallel computation is 13.717195014874129  times faster than serial\n",
      "variational approach is 2.6256322616903893  times faster than original\n",
      "variational approach is 36.01630977095209  times faster than serial original\n"
     ]
    }
   ],
   "source": [
    "print(\"indirect parallel computation is\",mean_time1/mean_time2,\" times faster than serial\")\n",
    "print(\"variational approach is\",mean_time2/mean_time3,\" times faster than original\")\n",
    "print(\"variational approach is\",mean_time1/mean_time3,\" times faster than serial original\")"
   ]
  }
 ],
 "metadata": {
  "kernelspec": {
   "display_name": "Python 3 (ipykernel)",
   "language": "python",
   "name": "python3"
  },
  "language_info": {
   "codemirror_mode": {
    "name": "ipython",
    "version": 3
   },
   "file_extension": ".py",
   "mimetype": "text/x-python",
   "name": "python",
   "nbconvert_exporter": "python",
   "pygments_lexer": "ipython3",
   "version": "3.9.13"
  }
 },
 "nbformat": 4,
 "nbformat_minor": 5
}
